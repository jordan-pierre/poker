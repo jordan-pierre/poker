{
  "nbformat": 4,
  "nbformat_minor": 0,
  "metadata": {
    "colab": {
      "name": "poker.ipynb",
      "provenance": [],
      "authorship_tag": "ABX9TyNp+Ye5rSuXzODAseE53Dif",
      "include_colab_link": true
    },
    "kernelspec": {
      "name": "python3",
      "display_name": "Python 3"
    },
    "language_info": {
      "name": "python"
    }
  },
  "cells": [
    {
      "cell_type": "markdown",
      "metadata": {
        "id": "view-in-github",
        "colab_type": "text"
      },
      "source": [
        "<a href=\"https://colab.research.google.com/github/jordan-pierre/poker/blob/main/poker.ipynb\" target=\"_parent\"><img src=\"https://colab.research.google.com/assets/colab-badge.svg\" alt=\"Open In Colab\"/></a>"
      ]
    },
    {
      "cell_type": "code",
      "metadata": {
        "id": "GWQ3y31ALPyK"
      },
      "source": [
        "import random"
      ],
      "execution_count": 1,
      "outputs": []
    },
    {
      "cell_type": "code",
      "metadata": {
        "id": "jUPBml1WU9fS"
      },
      "source": [
        "# initialize card\n",
        "\n",
        "class Card(object):\n",
        "  def __init__(self, val, suit):\n",
        "    self.value = val\n",
        "    self.suit = suit\n",
        "\n",
        "  def __repr__(self):\n",
        "    return f'({self.value}, {self.suit})'"
      ],
      "execution_count": 2,
      "outputs": []
    },
    {
      "cell_type": "code",
      "metadata": {
        "id": "5cmkR6d1IB3E"
      },
      "source": [
        "# initialize deck\n",
        "\n",
        "# 52 tuples (value, suit) as a stack\n",
        "class Deck(object):\n",
        "  def __init__(self):\n",
        "    self.cards = []\n",
        "    # initialize deck as (value, suit) tuples\n",
        "    for val in range(2,15):\n",
        "      for suit in ['S', 'C', 'H', 'D']:\n",
        "        self.cards.append(Card(val, suit))\n",
        "    # shuffle list\n",
        "    random.shuffle(self.cards)\n",
        "\n",
        "  def draw(self):\n",
        "    return self.cards.pop() if len(self.cards) != 0 else None\n",
        "\n",
        "  def size(self):\n",
        "    return len(self.cards)\n",
        "\n",
        "  def __repr__(self):\n",
        "    return f'Deck with {len(self.cards)} cards remaining: {self.cards}'"
      ],
      "execution_count": 3,
      "outputs": []
    },
    {
      "cell_type": "code",
      "metadata": {
        "colab": {
          "base_uri": "https://localhost:8080/"
        },
        "id": "b7HkS90zReRc",
        "outputId": "3ed10cdc-edab-484b-c29a-462d3e7d281d"
      },
      "source": [
        "deck = Deck()\n",
        "print(deck)"
      ],
      "execution_count": 4,
      "outputs": [
        {
          "output_type": "stream",
          "text": [
            "Deck with 52 cards remaining: [(2, S), (5, C), (14, S), (9, S), (5, H), (6, S), (13, S), (11, H), (5, S), (2, H), (12, S), (10, D), (4, D), (7, H), (7, D), (4, S), (3, H), (2, C), (3, C), (9, H), (13, H), (8, S), (14, C), (2, D), (3, D), (4, C), (4, H), (8, C), (5, D), (3, S), (6, H), (7, C), (8, D), (9, C), (12, D), (12, C), (13, D), (11, D), (13, C), (7, S), (11, S), (6, D), (10, H), (10, C), (12, H), (10, S), (8, H), (6, C), (14, D), (11, C), (14, H), (9, D)]\n"
          ],
          "name": "stdout"
        }
      ]
    },
    {
      "cell_type": "code",
      "metadata": {
        "id": "6KMqRo6TISbl"
      },
      "source": [
        "# initialize player\n",
        "\n",
        "class Player(object):\n",
        "  def __init__(self, cash=500, hand=[], has_folded=False):\n",
        "    self.cash = cash\n",
        "    self.hand = hand\n",
        "    self.has_folded = has_folded\n",
        "  \n",
        "  def hand_size(self):\n",
        "    return(len(self.hand))\n",
        "  \n",
        "  def add_card(self, card):\n",
        "    self.hand.append(card)\n",
        "\n",
        "  def bet(self, wager):\n",
        "    self.cash -= wager\n",
        "    return wager\n",
        "  \n",
        "  def fold(self):\n",
        "    self.has_folded = True\n",
        "\n",
        "  def accept_winnings(self, winnings):\n",
        "    self.cash += winnings\n",
        "\n",
        "  def __repr__(self):\n",
        "    return f'Player with {self.cash} and {self.hand} in their hand.'"
      ],
      "execution_count": 5,
      "outputs": []
    },
    {
      "cell_type": "code",
      "metadata": {
        "id": "jbZxkdohIXAg"
      },
      "source": [
        "# initialize river\n",
        "\n",
        "class Table(object):\n",
        "  def __init__(self, pot=0, river=[]):\n",
        "    self.pot = pot\n",
        "    self.river = river\n",
        "\n",
        "  def river_size(self):\n",
        "    return(len(self.river))\n",
        "\n",
        "  def add_card(self, card):\n",
        "    self.river.append(card)\n",
        "\n",
        "  def add_to_pot(self, amount):\n",
        "    self.pot += amount\n",
        "\n",
        "  def cash_out_winnings(self):\n",
        "    winnings = self.pot\n",
        "    self.pot = 0\n",
        "    return winnings\n",
        "\n",
        "\n",
        "  \n",
        "  def __repr__(self):\n",
        "    return f'Table has {self.pot} in the pot and {self.river} in its hand.'"
      ],
      "execution_count": 6,
      "outputs": []
    },
    {
      "cell_type": "code",
      "metadata": {
        "colab": {
          "base_uri": "https://localhost:8080/"
        },
        "id": "uvGwyAYmIbMW",
        "outputId": "9dbc95f4-e047-46cb-c6a3-9ba55e179b6a"
      },
      "source": [
        "\n",
        "# Start game\n",
        "\n",
        "deck = Deck()\n",
        "\n",
        "player1 = Player()\n",
        "player1.add_card(deck.draw())\n",
        "player2 = Player()\n",
        "player2.add_card(deck.draw())\n",
        "player3 = Player()\n",
        "player3.add_card(deck.draw())\n",
        "\n",
        "table = Table()\n",
        "\n",
        "table.add_to_pot(player1.bet(5))\n",
        "table.add_to_pot(player2.bet(5))\n",
        "table.add_to_pot(player3.bet(10))\n",
        "\n",
        "if not player1.has_folded:\n",
        "  player1.add_card(deck.draw())\n",
        "\n",
        "player2.add_card(deck.draw())\n",
        "player3.add_card(deck.draw())\n",
        "\n",
        "\n",
        "table.add_card(deck.draw())\n",
        "table.add_card(deck.draw())\n",
        "table.add_card(deck.draw())\n",
        "\n",
        "print(player1)\n",
        "print(player2)\n",
        "print(player3)\n",
        "\n",
        "print(table)\n",
        "\n",
        "print(deck.size())"
      ],
      "execution_count": 8,
      "outputs": [
        {
          "output_type": "stream",
          "text": [
            "Player with 495 and [(9, D), (8, C), (6, D), (2, D), (13, D), (11, H), (5, D), (13, S), (14, D), (12, H), (2, S), (2, C)] in their hand.\n",
            "Player with 495 and [(9, D), (8, C), (6, D), (2, D), (13, D), (11, H), (5, D), (13, S), (14, D), (12, H), (2, S), (2, C)] in their hand.\n",
            "Player with 490 and [(9, D), (8, C), (6, D), (2, D), (13, D), (11, H), (5, D), (13, S), (14, D), (12, H), (2, S), (2, C)] in their hand.\n",
            "Table has 20 in the pot and [(12, H), (4, C), (7, D), (4, H), (3, D), (6, H)] in its hand.\n",
            "43\n"
          ],
          "name": "stdout"
        }
      ]
    },
    {
      "cell_type": "code",
      "metadata": {
        "id": "APYyb0m4JF7u"
      },
      "source": [
        ""
      ],
      "execution_count": 7,
      "outputs": []
    }
  ]
}